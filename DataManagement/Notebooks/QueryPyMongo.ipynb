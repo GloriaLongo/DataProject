{
 "cells": [
  {
   "cell_type": "markdown",
   "id": "e2e731df",
   "metadata": {},
   "source": [
    "Collegamento con il database pymongo"
   ]
  },
  {
   "cell_type": "code",
   "execution_count": 120,
   "id": "df4c9e0d",
   "metadata": {},
   "outputs": [],
   "source": [
    "import pymongo\n",
    "from pymongo import MongoClient\n",
    "client=MongoClient('mongodb://localhost:27017')\n",
    "db=client.prova\n",
    "UsersCollection=db.airport\n",
    "db.airport.drop()"
   ]
  },
  {
   "cell_type": "markdown",
   "id": "2520f4aa",
   "metadata": {},
   "source": [
    "Importazione del file csv "
   ]
  },
  {
   "cell_type": "code",
   "execution_count": 121,
   "id": "6c09ba31",
   "metadata": {},
   "outputs": [],
   "source": [
    "import csv\n",
    "csvfile = open('C:/Users/glori/OneDrive/Desktop/dataman/RoutesIntegrato.csv', 'r')\n",
    "reader = csv.DictReader( csvfile )"
   ]
  },
  {
   "cell_type": "markdown",
   "id": "a561ac22",
   "metadata": {},
   "source": [
    "Definizione dello colonne"
   ]
  },
  {
   "cell_type": "code",
   "execution_count": 122,
   "id": "d1d020de",
   "metadata": {},
   "outputs": [],
   "source": [
    "diz={'Airline':0,'Airline_Code':0,'Departure':0,'Arrivals':0,'Aircraft':0,'Distance':0}"
   ]
  },
  {
   "cell_type": "markdown",
   "id": "d2423c65",
   "metadata": {},
   "source": [
    "Inserimento dei dati all'interno dello schema"
   ]
  },
  {
   "cell_type": "code",
   "execution_count": 123,
   "id": "203e4cf6",
   "metadata": {},
   "outputs": [],
   "source": [
    "for each in reader:\n",
    "    row={}\n",
    "    for field in diz:\n",
    "            if field=='Departure':\n",
    "                row[field]={'Departure':0,'Country_x':0,'Country_Code_x':0,'City_x':0,'Airport_Name_x':0}\n",
    "                for key in row[field]:\n",
    "                    row[field][key]=each[key]\n",
    "            if field=='Arrivals':\n",
    "                row[field]={'Arrivals':0,'Country_y':0,'Country_Code_y':0,'City_y':0,'Airport_Name_y':0}\n",
    "                for key in row[field]:\n",
    "                    row[field][key]=each[key]\n",
    "            if field=='Airline':\n",
    "                row[field]=each[field]\n",
    "            if field=='Airline_Code':\n",
    "                row[field]=each[field]\n",
    "            if field=='Aircraft':\n",
    "                row[field]=each[field]\n",
    "            if field=='Distance':\n",
    "                row[field]=each[field]\n",
    "   \n",
    "    db.airport.insert_one(row)\n"
   ]
  },
  {
   "cell_type": "markdown",
   "id": "afd875ea",
   "metadata": {},
   "source": [
    "Compagnie aeree che hanno volato di più"
   ]
  },
  {
   "cell_type": "code",
   "execution_count": 190,
   "id": "5d63439a",
   "metadata": {},
   "outputs": [
    {
     "name": "stdout",
     "output_type": "stream",
     "text": [
      "           Airline  Number of Fly\n",
      "0          Ryanair           3190\n",
      "1         Wizz Air           1145\n",
      "2          easyJet            992\n",
      "3          Vueling            428\n",
      "4        Lufthansa            362\n",
      "5        Eurowings            263\n",
      "6             Jet2            236\n",
      "7  British Airways            228\n",
      "8      TUI Airways            214\n",
      "9       Air France            187\n"
     ]
    }
   ],
   "source": [
    "import pandas as pd\n",
    "\n",
    "agg_result= db.airport.aggregate(\n",
    "    [{\n",
    "    \"$group\" : \n",
    "        {\"_id\" : \"$Airline\",  \n",
    "         \"total\" : {\"$sum\" : 1}\n",
    "         }}\n",
    "    ])\n",
    "\n",
    "\n",
    "list=[]\n",
    "for i in agg_result:\n",
    "    l=[]\n",
    "    for key in i:\n",
    "        l.append(i[key])\n",
    "    list.append(l)\n",
    "df = pd.DataFrame(list, columns = ['Airline', 'Number of Fly'])\n",
    "df=df.sort_values('Number of Fly',ascending=False)\n",
    "df.index = df.reset_index(drop=True).index \n",
    "print(df.iloc[0:10,:])\n"
   ]
  },
  {
   "cell_type": "markdown",
   "id": "ebb2dfb7",
   "metadata": {},
   "source": [
    "Chilometri percorsi da ogni compagnia"
   ]
  },
  {
   "cell_type": "code",
   "execution_count": 191,
   "id": "cbdf74c4",
   "metadata": {},
   "outputs": [
    {
     "name": "stdout",
     "output_type": "stream",
     "text": [
      "        km          Airline\n",
      "0  4493124          Ryanair\n",
      "1  1715527         Wizz Air\n",
      "2  1330670          easyJet\n",
      "3   550612          Vueling\n",
      "4   498151             Jet2\n",
      "5   417474      TUI Airways\n",
      "6   381068        Eurowings\n",
      "7   379716        Lufthansa\n",
      "8   245697  British Airways\n",
      "9   220691        Transavia\n"
     ]
    }
   ],
   "source": [
    "agg_result=db.airport.aggregate([{\n",
    "  \"$group\": {\n",
    "    \"_id\": \"$Airline\",\n",
    "    \"sum_distance\": {\n",
    "      \"$sum\":  {'$convert': { 'input': '$Distance', 'to': 'int' }}\n",
    "    }\n",
    "  }\n",
    "},{\n",
    "  \"$project\": {\n",
    "    \"Airline\": \"$_id\",\n",
    "    \"sum_distance\": 1,\n",
    "    \"_id\": 0\n",
    "  }\n",
    "}])\n",
    "\n",
    "\n",
    "list=[]\n",
    "for i in agg_result:\n",
    "    l=[]\n",
    "    for key in i:\n",
    "        l.append(i[key])\n",
    "    list.append(l)\n",
    "d = pd.DataFrame(list, columns = ['km', 'Airline'])\n",
    "d=d.sort_values('km',ascending=False)\n",
    "d.index = d.reset_index(drop=True).index \n",
    "print(d.iloc[0:10,:])\n"
   ]
  },
  {
   "cell_type": "markdown",
   "id": "884ea644",
   "metadata": {},
   "source": [
    "Normalizzazione dei chilometri percorsi in base al numero di voli per ogni compagnia aerea"
   ]
  },
  {
   "cell_type": "code",
   "execution_count": 193,
   "id": "57f8e192",
   "metadata": {},
   "outputs": [
    {
     "name": "stdout",
     "output_type": "stream",
     "text": [
      "               Airline  Number of Fly      km_norm\n",
      "0     Georgian Airways              6  2972.666667\n",
      "1               Condor             72  2635.069444\n",
      "2           Smartwings              5  2520.400000\n",
      "3           Air Astana              2  2433.500000\n",
      "4           SunExpress             53  2218.339623\n",
      "5                 Jet2            236  2110.809322\n",
      "6           Icelandair             49  2074.000000\n",
      "7  Azerbaijan Airlines             23  2060.826087\n",
      "8          TUI Airways            214  1950.813084\n",
      "9        Edelweiss Air             31  1902.258065\n"
     ]
    }
   ],
   "source": [
    "for i in range(len(df)):\n",
    "    for j in range(len(d)):\n",
    "        if (df.loc[i,'Airline']==d.loc[j,'Airline']):\n",
    "                df.loc[i,'km_norm']=d.loc[j,'km']/df.loc[i,'Number of Fly']\n",
    "                \n",
    "                \n",
    "df=df.sort_values('km_norm',ascending=False)\n",
    "df.index = df.reset_index(drop=True).index \n",
    "print(df.iloc[0:10,:])"
   ]
  },
  {
   "cell_type": "markdown",
   "id": "c8cdf3e7",
   "metadata": {},
   "source": [
    "Aircraft più utilizzati"
   ]
  },
  {
   "cell_type": "code",
   "execution_count": 126,
   "id": "339ad4a1",
   "metadata": {},
   "outputs": [
    {
     "name": "stdout",
     "output_type": "stream",
     "text": [
      "  Aircraft  voli\n",
      "0      73H  3512\n",
      "1      320  2044\n",
      "2            766\n",
      "3      319   687\n"
     ]
    }
   ],
   "source": [
    "agg_result= db.airport.aggregate(\n",
    "    [{\n",
    "    \"$group\" : \n",
    "        {\"_id\" : \"$Aircraft\",  \n",
    "         \"total\" : {\"$sum\" : 1}\n",
    "         }}\n",
    "    ])\n",
    "\n",
    "list=[]\n",
    "for i in agg_result:\n",
    "    l=[]\n",
    "    for key in i:\n",
    "        l.append(i[key])\n",
    "    list.append(l)\n",
    "df = pd.DataFrame(list, columns = ['Aircraft', 'voli'])\n",
    "df=df.sort_values('voli',ascending=False)\n",
    "df.index = df.reset_index(drop=True).index \n",
    "print(df.iloc[0:4,:])\n"
   ]
  },
  {
   "cell_type": "markdown",
   "id": "89b553dc",
   "metadata": {},
   "source": [
    "Numeri di partenze per ogni nazione"
   ]
  },
  {
   "cell_type": "code",
   "execution_count": 195,
   "id": "2b985d3c",
   "metadata": {},
   "outputs": [
    {
     "name": "stdout",
     "output_type": "stream",
     "text": [
      "          Country  Number of Fly\n",
      "0           Spain           1713\n",
      "1  United Kingdom           1426\n",
      "2           Italy           1181\n",
      "3         Germany            833\n",
      "4          France            755\n",
      "5          Poland            378\n",
      "6        Portugal            374\n",
      "7          Greece            307\n",
      "8     Netherlands            294\n",
      "9     Switzerland            266\n"
     ]
    }
   ],
   "source": [
    "agg_result= db.airport.aggregate(\n",
    "    [{\n",
    "    \"$group\" : \n",
    "        {\"_id\" : \"$Departure.Country_x\",  \n",
    "         \"total\" : {\"$sum\" : 1}\n",
    "         }}\n",
    "    ])\n",
    "\n",
    "\n",
    "list=[]\n",
    "for i in agg_result:\n",
    "    l=[]\n",
    "    for key in i:\n",
    "        l.append(i[key])\n",
    "    list.append(l)\n",
    "df = pd.DataFrame(list, columns = ['Country', 'Number of Fly'])\n",
    "df=df.sort_values('Number of Fly',ascending=False)\n",
    "df.index = df.reset_index(drop=True).index \n",
    "print(df.iloc[0:10,:])"
   ]
  },
  {
   "cell_type": "markdown",
   "id": "6452baa8",
   "metadata": {},
   "source": [
    "Numero di voli da ogni aereoporto"
   ]
  },
  {
   "cell_type": "code",
   "execution_count": 129,
   "id": "d28a15da",
   "metadata": {},
   "outputs": [
    {
     "name": "stdout",
     "output_type": "stream",
     "text": [
      "  Airport  Departure\n",
      "0     MAD        199\n",
      "1     AMS        198\n",
      "2     BCN        191\n",
      "3     DUB        172\n",
      "4     VIE        165\n",
      "5     MAN        163\n",
      "6     LGW        148\n",
      "7     LPA        146\n",
      "8     TFS        144\n",
      "9     AGP        144\n"
     ]
    }
   ],
   "source": [
    "agg_result=db.airport.aggregate([\n",
    "        {\"$group\" : {\"_id\":\"$Departure.Departure\", \"count\":{\"$sum\":1}}}\n",
    "    ])  \n",
    "\n",
    "\n",
    "list=[]\n",
    "for i in agg_result:\n",
    "    l=[]\n",
    "    for key in i:\n",
    "        l.append(i[key])\n",
    "    list.append(l)\n",
    "df = pd.DataFrame(list, columns = ['Airport', 'Departure'])\n",
    "df=df.sort_values('Departure',ascending=False)\n",
    "df.index = df.reset_index(drop=True).index \n",
    "print(df.iloc[0:10,:])"
   ]
  },
  {
   "cell_type": "markdown",
   "id": "d775f29b",
   "metadata": {},
   "source": [
    "Numero di aereoporti attivi per ogni stato"
   ]
  },
  {
   "cell_type": "code",
   "execution_count": 130,
   "id": "519265da",
   "metadata": {},
   "outputs": [
    {
     "name": "stdout",
     "output_type": "stream",
     "text": [
      "   Airport             Country\n",
      "0       43              France\n",
      "1       42      United Kingdom\n",
      "2       37              Greece\n",
      "3       37               Spain\n",
      "4       34               Italy\n",
      "5       20             Germany\n",
      "6       18              Sweden\n",
      "7       17             Finland\n",
      "8       13  Russian Federation\n",
      "9       13              Poland\n"
     ]
    }
   ],
   "source": [
    "agg_result=db.airport.aggregate([{\n",
    "  \"$group\": {\n",
    "    \"_id\": {\n",
    "      \"Airport_Code\": \"$Departure.Departure\",\n",
    "      \"Country\": \"$Departure.Country_x\"\n",
    "    },\n",
    "    \"count\": {\n",
    "      \"$sum\": 1\n",
    "    }\n",
    "  }\n",
    "},{\n",
    "  \"$project\": {\n",
    "    \"Airport_Code\": \"$_id.Airport_Code\",\n",
    "    \"Country\": \"$_id.Country\",\n",
    "    \"count\": 1,\n",
    "    \"_id\": 0\n",
    "  }\n",
    "},{\n",
    "  \"$group\": {\n",
    "    \"_id\": \"$Country\",\n",
    "    \"count\": {\n",
    "      \"$sum\": 1\n",
    "    }\n",
    "  }\n",
    "},{\n",
    "  \"$project\": {\n",
    "    \"Country\": \"$_id\",\n",
    "    \"count\": 1,\n",
    "    \"_id\": 0\n",
    "  }\n",
    "}])\n",
    "\n",
    "\n",
    "list=[]\n",
    "for i in agg_result:\n",
    "    l=[]\n",
    "    for key in i:\n",
    "        l.append(i[key])\n",
    "    list.append(l)\n",
    "df = pd.DataFrame(list, columns = ['Airport', 'Country'])\n",
    "df=df.sort_values('Airport',ascending=False)\n",
    "df.index = df.reset_index(drop=True).index \n",
    "print(df.iloc[0:10,:])"
   ]
  },
  {
   "cell_type": "markdown",
   "id": "9b4809c7",
   "metadata": {},
   "source": [
    "Quali sono le mete favorite delle nazioni con più voli"
   ]
  },
  {
   "cell_type": "markdown",
   "id": "2bd094fe",
   "metadata": {},
   "source": [
    "Italy"
   ]
  },
  {
   "cell_type": "code",
   "execution_count": 133,
   "id": "26160951",
   "metadata": {},
   "outputs": [
    {
     "name": "stdout",
     "output_type": "stream",
     "text": [
      "   Arrivals         Airport\n",
      "0       346           Italy\n",
      "1       132           Spain\n",
      "2       117  United Kingdom\n",
      "3        80         Germany\n",
      "4        71          France\n",
      "5        62         Romania\n",
      "6        55          Poland\n",
      "7        33     Netherlands\n",
      "8        31         Albania\n",
      "9        27         Belgium\n"
     ]
    }
   ],
   "source": [
    "agg_result=db.airport.aggregate([{\n",
    "  \"$match\": {\n",
    "    \"Departure.Country_x\": \"Italy\"\n",
    "    \n",
    "  }\n",
    "},{\n",
    "  \"$group\": {\n",
    "    \"_id\": \"$Arrivals.Country_y\",\n",
    "      \"count\": {\n",
    "      \"$sum\": 1\n",
    "    }\n",
    "  }\n",
    "},{\n",
    "  \"$project\": {\n",
    "    \"Arrivals\": \"$_id\",\n",
    "    \"_id\": 0,\n",
    "      \"count\":1\n",
    "  }\n",
    "}])\n",
    "\n",
    "\n",
    "list=[]\n",
    "for i in agg_result:\n",
    "    l=[]\n",
    "    for key in i:\n",
    "        l.append(i[key])\n",
    "    list.append(l)\n",
    "df = pd.DataFrame(list, columns = ['Arrivals', 'Airport'])\n",
    "df=df.sort_values('Arrivals',ascending=False)\n",
    "df.index = df.reset_index(drop=True).index \n",
    "print(df.iloc[0:10,:])"
   ]
  },
  {
   "cell_type": "markdown",
   "id": "caa40687",
   "metadata": {},
   "source": [
    "Spain"
   ]
  },
  {
   "cell_type": "code",
   "execution_count": 140,
   "id": "d361296f",
   "metadata": {},
   "outputs": [
    {
     "name": "stdout",
     "output_type": "stream",
     "text": [
      "   Arrivals         Airport\n",
      "0       570           Spain\n",
      "1       305  United Kingdom\n",
      "2       163         Germany\n",
      "3       132           Italy\n",
      "4       117          France\n",
      "5        62     Netherlands\n",
      "6        45        Portugal\n",
      "7        45     Switzerland\n",
      "8        41         Ireland\n",
      "9        37         Belgium\n"
     ]
    }
   ],
   "source": [
    "agg_result=db.airport.aggregate([{\n",
    "  \"$match\": {\n",
    "    \"Departure.Country_x\": \"Spain\"\n",
    "    \n",
    "  }\n",
    "},{\n",
    "  \"$group\": {\n",
    "    \"_id\": \"$Arrivals.Country_y\",\n",
    "      \"count\": {\n",
    "      \"$sum\": 1\n",
    "    }\n",
    "  }\n",
    "},{\n",
    "  \"$project\": {\n",
    "    \"Arrivals\": \"$_id\",\n",
    "    \"_id\": 0,\n",
    "      \"count\":1\n",
    "  }\n",
    "}])\n",
    "\n",
    "\n",
    "list=[]\n",
    "for i in agg_result:\n",
    "    l=[]\n",
    "    for key in i:\n",
    "        l.append(i[key])\n",
    "    list.append(l)\n",
    "df = pd.DataFrame(list, columns = ['Arrivals', 'Airport'])\n",
    "df=df.sort_values('Arrivals',ascending=False)\n",
    "df.index = df.reset_index(drop=True).index \n",
    "print(df.iloc[0:10,:])"
   ]
  },
  {
   "cell_type": "markdown",
   "id": "6f7f0663",
   "metadata": {},
   "source": [
    "United Kingdom"
   ]
  },
  {
   "cell_type": "code",
   "execution_count": 196,
   "id": "d361307a",
   "metadata": {},
   "outputs": [
    {
     "name": "stdout",
     "output_type": "stream",
     "text": [
      "   Arrivals         Airport\n",
      "0       306           Spain\n",
      "1       260  United Kingdom\n",
      "2       117           Italy\n",
      "3       108          France\n",
      "4        88          Poland\n",
      "5        63        Portugal\n",
      "6        62         Germany\n",
      "7        59         Ireland\n",
      "8        56         Austria\n",
      "9        48     Switzerland\n"
     ]
    }
   ],
   "source": [
    "agg_result=db.airport.aggregate([{\n",
    "  \"$match\": {\n",
    "    \"Departure.Country_x\": \"United Kingdom\"\n",
    "    \n",
    "  }\n",
    "},{\n",
    "  \"$group\": {\n",
    "    \"_id\": \"$Arrivals.Country_y\",\n",
    "      \"count\": {\n",
    "      \"$sum\": 1\n",
    "    }\n",
    "  }\n",
    "},{\n",
    "  \"$project\": {\n",
    "    \"Arrivals\": \"$_id\",\n",
    "    \"_id\": 0,\n",
    "      \"count\":1\n",
    "  }\n",
    "}])\n",
    "\n",
    "\n",
    "list=[]\n",
    "for i in agg_result:\n",
    "    l=[]\n",
    "    for key in i:\n",
    "        l.append(i[key])\n",
    "    list.append(l)\n",
    "df = pd.DataFrame(list, columns = ['Arrivals', 'Airport'])\n",
    "df=df.sort_values('Arrivals',ascending=False)\n",
    "df.index = df.reset_index(drop=True).index \n",
    "print(df.iloc[0:10,:])"
   ]
  },
  {
   "cell_type": "markdown",
   "id": "e363bec5",
   "metadata": {},
   "source": [
    "Compagnie aeree più usate in Italia"
   ]
  },
  {
   "cell_type": "code",
   "execution_count": 143,
   "id": "fccf78ae",
   "metadata": {},
   "outputs": [
    {
     "name": "stdout",
     "output_type": "stream",
     "text": [
      "   Fly       Airline\n",
      "0  599       Ryanair\n",
      "1  166      Wizz Air\n",
      "2  102       easyJet\n",
      "3   78   ITA Airways\n",
      "4   31       Vueling\n",
      "5   23       Volotea\n",
      "6   15     Lufthansa\n",
      "7   14  Air Dolomiti\n",
      "8   13   TUI Airways\n",
      "9   11     Eurowings\n"
     ]
    }
   ],
   "source": [
    "agg_result=db.airport.aggregate([{\n",
    "  \"$match\": {\n",
    "    \"Departure.Country_x\": \"Italy\"\n",
    "    \n",
    "  }\n",
    "},{\n",
    "  \"$group\": {\n",
    "    \"_id\": \"$Airline\",\n",
    "      \"count\": {\n",
    "      \"$sum\": 1\n",
    "    }\n",
    "  }\n",
    "},{\n",
    "  \"$project\": {\n",
    "    \"Airline\": \"$_id\",\n",
    "    \"_id\": 0,\n",
    "      \"count\":1\n",
    "  }\n",
    "}])\n",
    "\n",
    "\n",
    "list=[]\n",
    "for i in agg_result:\n",
    "    l=[]\n",
    "    for key in i:\n",
    "        l.append(i[key])\n",
    "    list.append(l)\n",
    "df = pd.DataFrame(list, columns = ['Fly', 'Airline'])\n",
    "df=df.sort_values('Fly',ascending=False)\n",
    "df.index = df.reset_index(drop=True).index \n",
    "print(df.iloc[0:10,:])"
   ]
  },
  {
   "cell_type": "markdown",
   "id": "c65deb5d",
   "metadata": {},
   "source": [
    "Spagna"
   ]
  },
  {
   "cell_type": "code",
   "execution_count": 136,
   "id": "24e782b6",
   "metadata": {},
   "outputs": [
    {
     "name": "stdout",
     "output_type": "stream",
     "text": [
      "   Fly          Airline\n",
      "0  568          Ryanair\n",
      "1  266          Vueling\n",
      "2  145           Iberia\n",
      "3  122          easyJet\n",
      "4   73  Binter Canarias\n",
      "5   64         Wizz Air\n",
      "6   56       Air Europa\n",
      "7   55             Jet2\n",
      "8   51          Volotea\n",
      "9   46      TUI Airways\n"
     ]
    }
   ],
   "source": [
    "agg_result=db.airport.aggregate([{\n",
    "  \"$match\": {\n",
    "    \"Departure.Country_x\": \"Spain\"\n",
    "    \n",
    "  }\n",
    "},{\n",
    "  \"$group\": {\n",
    "    \"_id\": \"$Airline\",\n",
    "      \"count\": {\n",
    "      \"$sum\": 1\n",
    "    }\n",
    "  }\n",
    "},{\n",
    "  \"$project\": {\n",
    "    \"Airline\": \"$_id\",\n",
    "    \"_id\": 0,\n",
    "      \"count\":1\n",
    "  }\n",
    "}])\n",
    "\n",
    "\n",
    "list=[]\n",
    "for i in agg_result:\n",
    "    l=[]\n",
    "    for key in i:\n",
    "        l.append(i[key])\n",
    "    list.append(l)\n",
    "df = pd.DataFrame(list, columns = ['Fly', 'Airline'])\n",
    "df=df.sort_values('Fly',ascending=False)\n",
    "df.index = df.reset_index(drop=True).index \n",
    "print(df.iloc[0:10,:])"
   ]
  },
  {
   "cell_type": "markdown",
   "id": "ce1848a9",
   "metadata": {},
   "source": [
    "United Kingdom"
   ]
  },
  {
   "cell_type": "code",
   "execution_count": 137,
   "id": "a0e926c7",
   "metadata": {},
   "outputs": [
    {
     "name": "stdout",
     "output_type": "stream",
     "text": [
      "   Fly          Airline\n",
      "0  425          Ryanair\n",
      "1  302          easyJet\n",
      "2  125  British Airways\n",
      "3  112             Jet2\n",
      "4  100      TUI Airways\n",
      "5   97         Loganair\n",
      "6   59         Wizz Air\n",
      "7   35       Aer Lingus\n",
      "8   29            Flybe\n",
      "9   22          Vueling\n"
     ]
    }
   ],
   "source": [
    "agg_result=db.airport.aggregate([{\n",
    "  \"$match\": {\n",
    "    \"Departure.Country_x\": \"United Kingdom\"\n",
    "    \n",
    "  }\n",
    "},{\n",
    "  \"$group\": {\n",
    "    \"_id\": \"$Airline\",\n",
    "      \"count\": {\n",
    "      \"$sum\": 1\n",
    "    }\n",
    "  }\n",
    "},{\n",
    "  \"$project\": {\n",
    "    \"Airline\": \"$_id\",\n",
    "    \"_id\": 0,\n",
    "      \"count\":1\n",
    "  }\n",
    "}])\n",
    "\n",
    "\n",
    "list=[]\n",
    "for i in agg_result:\n",
    "    l=[]\n",
    "    for key in i:\n",
    "        l.append(i[key])\n",
    "    list.append(l)\n",
    "df = pd.DataFrame(list, columns = ['Fly', 'Airline'])\n",
    "df=df.sort_values('Fly',ascending=False)\n",
    "df.index = df.reset_index(drop=True).index \n",
    "print(df.iloc[0:10,:])"
   ]
  }
 ],
 "metadata": {
  "kernelspec": {
   "display_name": "Python 3 (ipykernel)",
   "language": "python",
   "name": "python3"
  },
  "language_info": {
   "codemirror_mode": {
    "name": "ipython",
    "version": 3
   },
   "file_extension": ".py",
   "mimetype": "text/x-python",
   "name": "python",
   "nbconvert_exporter": "python",
   "pygments_lexer": "ipython3",
   "version": "3.8.10"
  }
 },
 "nbformat": 4,
 "nbformat_minor": 5
}
