{
 "cells": [
  {
   "cell_type": "markdown",
   "id": "fb23886b",
   "metadata": {},
   "source": [
    "In questo Jupyter Notebook verranno svolte delle query per esplorare i dati del database creato precedentemente di tipo SQlite\n"
   ]
  },
  {
   "cell_type": "code",
   "execution_count": 1,
   "id": "30bea70d",
   "metadata": {},
   "outputs": [],
   "source": [
    "import sqlite3"
   ]
  },
  {
   "cell_type": "code",
   "execution_count": 2,
   "id": "0239ca37",
   "metadata": {},
   "outputs": [],
   "source": [
    "conn = sqlite3.connect('C:/Users/glori/OneDrive/Desktop/ecommerce.csv/ecommerce.sqlite')\n",
    "cursor = conn.cursor()"
   ]
  },
  {
   "cell_type": "markdown",
   "id": "34885a79",
   "metadata": {},
   "source": [
    "Quanti marchi distinti abbiamo nel database"
   ]
  },
  {
   "cell_type": "code",
   "execution_count": 15,
   "id": "2bee9642",
   "metadata": {},
   "outputs": [
    {
     "data": {
      "text/plain": [
       "563"
      ]
     },
     "execution_count": 15,
     "metadata": {},
     "output_type": "execute_result"
    }
   ],
   "source": [
    "cursor.execute(\"SELECT  distinct marchio FROM ecommerce group by marchio\")\n",
    "len(cursor.fetchall())"
   ]
  },
  {
   "cell_type": "markdown",
   "id": "12ffd845",
   "metadata": {},
   "source": [
    "Quanti settori distinti abbiamo nel database"
   ]
  },
  {
   "cell_type": "code",
   "execution_count": 25,
   "id": "9128d97b",
   "metadata": {},
   "outputs": [
    {
     "data": {
      "text/plain": [
       "[('Arceria',),\n",
       " ('Arti marziali',),\n",
       " ('Bambino',),\n",
       " ('Baseball',),\n",
       " ('Basket',),\n",
       " ('Buoni / acconti',),\n",
       " ('Calcio',),\n",
       " ('Casual',),\n",
       " ('Ciclismo',),\n",
       " ('Danza',),\n",
       " ('Fitness',),\n",
       " ('Freccette',),\n",
       " ('Golf',),\n",
       " ('Intimo',),\n",
       " ('Mare',),\n",
       " ('Nuoto',),\n",
       " ('Padel',),\n",
       " ('Pattini',),\n",
       " ('Pesca',),\n",
       " ('Ping-pong',),\n",
       " ('Rugby',),\n",
       " ('Running',),\n",
       " ('Sci',),\n",
       " ('Skateboard',),\n",
       " ('Snowboard',),\n",
       " ('Soft air',),\n",
       " ('Subacquea',),\n",
       " ('Tennis',),\n",
       " ('Trekking',),\n",
       " ('Volley',)]"
      ]
     },
     "execution_count": 25,
     "metadata": {},
     "output_type": "execute_result"
    }
   ],
   "source": [
    "cursor.execute(\"SELECT  distinct settore FROM ecommerce group by settore\")\n",
    "totale=cursor.fetchall()\n",
    "totale"
   ]
  },
  {
   "cell_type": "markdown",
   "id": "6f83649a",
   "metadata": {},
   "source": [
    "In quale anno c'è stato il fatturato più alto"
   ]
  },
  {
   "cell_type": "code",
   "execution_count": 29,
   "id": "dbef9290",
   "metadata": {},
   "outputs": [
    {
     "data": {
      "text/plain": [
       "[(11390456.532700265, 2020),\n",
       " (9035695.195799714, 2018),\n",
       " (8484906.50965937, 2021),\n",
       " (8381653.837549435, 2017),\n",
       " (7557252.085599755, 2015),\n",
       " (7474662.906199716, 2019),\n",
       " (7281402.261349681, 2016),\n",
       " (6837547.58889987, 2022),\n",
       " (4595103.50180001, 2014),\n",
       " (2071102.3310600184, 2023),\n",
       " (1017040.633560006, 2013),\n",
       " (13051.0478, 2012)]"
      ]
     },
     "execution_count": 29,
     "metadata": {},
     "output_type": "execute_result"
    }
   ],
   "source": [
    "cursor.execute(\"SELECT  sum(qta*prezzo) ,anno  FROM ecommerce group by anno order by sum(qta*prezzo) desc\")\n",
    "cursor.fetchall()"
   ]
  },
  {
   "cell_type": "markdown",
   "id": "6034bebd",
   "metadata": {},
   "source": [
    "Settore con più vendite"
   ]
  },
  {
   "cell_type": "code",
   "execution_count": 30,
   "id": "ffcbeb9a",
   "metadata": {},
   "outputs": [
    {
     "data": {
      "text/plain": [
       "[(232692, 'Pesca'),\n",
       " (83268, 'Calcio'),\n",
       " (50944, 'Fitness'),\n",
       " (41334, 'Casual'),\n",
       " (12139, 'Running'),\n",
       " (9365, 'Tennis'),\n",
       " (7078, 'Sci'),\n",
       " (6173, 'Trekking'),\n",
       " (5828, 'Bambino'),\n",
       " (5440, 'Padel'),\n",
       " (5232, 'Snowboard'),\n",
       " (4454, 'Mare'),\n",
       " (4209, 'Ciclismo'),\n",
       " (3289, 'Nuoto'),\n",
       " (2399, 'Basket'),\n",
       " (926, 'Ping-pong'),\n",
       " (776, 'Volley'),\n",
       " (455, 'Subacquea'),\n",
       " (393, 'Pattini'),\n",
       " (294, 'Arti marziali'),\n",
       " (248, 'Skateboard'),\n",
       " (146, 'Rugby'),\n",
       " (134, 'Baseball'),\n",
       " (124, 'Danza'),\n",
       " (93, 'Arceria'),\n",
       " (78, 'Freccette'),\n",
       " (62, 'Golf'),\n",
       " (60, 'Buoni / acconti'),\n",
       " (9, 'Intimo'),\n",
       " (5, 'Soft air')]"
      ]
     },
     "execution_count": 30,
     "metadata": {},
     "output_type": "execute_result"
    }
   ],
   "source": [
    "cursor.execute(\"SELECT  sum(qta) ,settore  FROM ecommerce group by settore order by sum(qta) desc\")\n",
    "cursor.fetchall()"
   ]
  },
  {
   "cell_type": "markdown",
   "id": "cec49a70",
   "metadata": {},
   "source": [
    "Settore con più vendite, raggruppato per anno "
   ]
  },
  {
   "cell_type": "code",
   "execution_count": 34,
   "id": "46e53ceb",
   "metadata": {},
   "outputs": [
    {
     "data": {
      "text/plain": [
       "[(14, 'Fitness', 2012),\n",
       " (1919, 'Pesca', 2013),\n",
       " (6950, 'Pesca', 2014),\n",
       " (18643, 'Pesca', 2015),\n",
       " (27561, 'Pesca', 2016),\n",
       " (33736, 'Pesca', 2017),\n",
       " (33484, 'Pesca', 2018),\n",
       " (24266, 'Pesca', 2019),\n",
       " (33643, 'Pesca', 2020),\n",
       " (29293, 'Pesca', 2021),\n",
       " (18292, 'Pesca', 2022),\n",
       " (4902, 'Pesca', 2023)]"
      ]
     },
     "execution_count": 34,
     "metadata": {},
     "output_type": "execute_result"
    }
   ],
   "source": [
    "cursor.execute(\"select max (a.totale),a.settore,a.anno from (SELECT sum(qta) as totale ,settore,anno FROM ecommerce group by settore,anno) as a group by a.anno \")\n",
    "cursor.fetchall()"
   ]
  },
  {
   "cell_type": "markdown",
   "id": "dd412587",
   "metadata": {},
   "source": [
    "Settore che fattura di più"
   ]
  },
  {
   "cell_type": "code",
   "execution_count": 35,
   "id": "6d432e19",
   "metadata": {},
   "outputs": [
    {
     "data": {
      "text/plain": [
       "[(16429652.18608302, 'Pesca'),\n",
       " (15094690.830730509, 'Calcio'),\n",
       " (13661430.886949422, 'Casual'),\n",
       " (9321384.617019063, 'Fitness'),\n",
       " (4637836.611800062, 'Sci'),\n",
       " (4301059.024500101, 'Running'),\n",
       " (2447321.1044800165, 'Snowboard'),\n",
       " (2430568.4368000356, 'Trekking'),\n",
       " (1333864.373660005, 'Padel'),\n",
       " (1093252.7130000067, 'Tennis'),\n",
       " (1086216.473300017, 'Bambino'),\n",
       " (682594.2990999974, 'Mare'),\n",
       " (523654.55309999513, 'Basket'),\n",
       " (388917.15225999634, 'Ciclismo'),\n",
       " (236918.89549999902, 'Nuoto'),\n",
       " (128510.15380000041, 'Volley'),\n",
       " (68845.03499999989, 'Subacquea'),\n",
       " (67193.0350000001, 'Pattini'),\n",
       " (41370.66430000003, 'Skateboard'),\n",
       " (39381.615, 'Rugby'),\n",
       " (33856.45969999999, 'Arti marziali'),\n",
       " (25005.08499999998, 'Golf'),\n",
       " (22004.474799999927, 'Ping-pong'),\n",
       " (14616.07, 'Buoni / acconti'),\n",
       " (11020.491999999971, 'Freccette'),\n",
       " (8304.8931, 'Baseball'),\n",
       " (6981.352000000006, 'Danza'),\n",
       " (2035.2640000000035, 'Arceria'),\n",
       " (1284.4299999999998, 'Intimo'),\n",
       " (103.25, 'Soft air')]"
      ]
     },
     "execution_count": 35,
     "metadata": {},
     "output_type": "execute_result"
    }
   ],
   "source": [
    "cursor.execute(\"SELECT  sum(qta*prezzo) ,settore  FROM ecommerce group by settore order by sum(qta*prezzo) desc\")\n",
    "cursor.fetchall()"
   ]
  },
  {
   "cell_type": "markdown",
   "id": "ec0c369e",
   "metadata": {},
   "source": [
    "Settori e quantità totali vendute"
   ]
  },
  {
   "cell_type": "code",
   "execution_count": 45,
   "id": "b4b197ca",
   "metadata": {},
   "outputs": [
    {
     "data": {
      "text/plain": [
       "[(232692, 'Pesca'),\n",
       " (83268, 'Calcio'),\n",
       " (50944, 'Fitness'),\n",
       " (41334, 'Casual'),\n",
       " (12139, 'Running'),\n",
       " (9365, 'Tennis'),\n",
       " (7078, 'Sci'),\n",
       " (6173, 'Trekking'),\n",
       " (5828, 'Bambino'),\n",
       " (5440, 'Padel'),\n",
       " (5232, 'Snowboard'),\n",
       " (4454, 'Mare'),\n",
       " (4209, 'Ciclismo'),\n",
       " (3289, 'Nuoto'),\n",
       " (2399, 'Basket'),\n",
       " (926, 'Ping-pong'),\n",
       " (776, 'Volley'),\n",
       " (455, 'Subacquea'),\n",
       " (393, 'Pattini'),\n",
       " (294, 'Arti marziali'),\n",
       " (248, 'Skateboard'),\n",
       " (146, 'Rugby'),\n",
       " (134, 'Baseball'),\n",
       " (124, 'Danza'),\n",
       " (93, 'Arceria'),\n",
       " (78, 'Freccette'),\n",
       " (62, 'Golf'),\n",
       " (60, 'Buoni / acconti'),\n",
       " (9, 'Intimo'),\n",
       " (5, 'Soft air')]"
      ]
     },
     "execution_count": 45,
     "metadata": {},
     "output_type": "execute_result"
    }
   ],
   "source": [
    "cursor.execute(\"SELECT  sum(qta) ,settore  FROM ecommerce group by settore order by sum(qta) desc\")\n",
    "cursor.fetchall()"
   ]
  },
  {
   "cell_type": "markdown",
   "id": "b48ff5a5",
   "metadata": {},
   "source": [
    "Articolo più caro"
   ]
  },
  {
   "cell_type": "code",
   "execution_count": 37,
   "id": "d57894ed",
   "metadata": {},
   "outputs": [
    {
     "data": {
      "text/plain": [
       "[(47982.34, \"Camera d'aria\")]"
      ]
     },
     "execution_count": 37,
     "metadata": {},
     "output_type": "execute_result"
    }
   ],
   "source": [
    "cursor.execute(\"SELECT  max(prezzo) ,descrizione  FROM ecommerce\")\n",
    "cursor.fetchall()"
   ]
  },
  {
   "cell_type": "markdown",
   "id": "332c8fa2",
   "metadata": {},
   "source": [
    "Articolo più venduto raggruppato per anno"
   ]
  },
  {
   "cell_type": "code",
   "execution_count": 39,
   "id": "d8ac46db",
   "metadata": {},
   "outputs": [
    {
     "data": {
      "text/plain": [
       "[(21, 'Multistazione', 2012),\n",
       " (5895, 'Ciabatte ', 2013),\n",
       " (26055, 'Vario', 2014),\n",
       " (43715, 'Pantalone imbottito', 2015),\n",
       " (48402, 'Vario', 2016),\n",
       " (58124, 'Pasture e stick', 2017),\n",
       " (58459, 'Pantalone cotone', 2018),\n",
       " (44347, 'Pallone', 2019),\n",
       " (72079, 'Piombi', 2020),\n",
       " (62103, 'Sci', 2021),\n",
       " (47261, 'T.shirt m/m', 2022),\n",
       " (11186, 'Scarpa', 2023)]"
      ]
     },
     "execution_count": 39,
     "metadata": {},
     "output_type": "execute_result"
    }
   ],
   "source": [
    "cursor.execute(\"SELECT  max(a.somma),a.descrizione, a.anno from (select sum(qta) as somma,descrizione,anno FROM ecommerce group by anno) as a group by a.anno\")\n",
    "cursor.fetchall()"
   ]
  },
  {
   "cell_type": "markdown",
   "id": "8148a2a4",
   "metadata": {},
   "source": [
    "INDAGHIAMO LA STAGIONALITA'"
   ]
  },
  {
   "cell_type": "markdown",
   "id": "5877d112",
   "metadata": {},
   "source": [
    "Vediamo se le vendite aumentano durante la stagione estiva"
   ]
  },
  {
   "cell_type": "code",
   "execution_count": 43,
   "id": "d8153387",
   "metadata": {},
   "outputs": [
    {
     "data": {
      "text/plain": [
       "[(44883, 4),\n",
       " (43660, 7),\n",
       " (43404, 3),\n",
       " (42231, 10),\n",
       " (41408, 9),\n",
       " (40754, 5),\n",
       " (40633, 1),\n",
       " (38746, 11),\n",
       " (37135, 12),\n",
       " (35862, 6),\n",
       " (35769, 8),\n",
       " (33162, 2)]"
      ]
     },
     "execution_count": 43,
     "metadata": {},
     "output_type": "execute_result"
    }
   ],
   "source": [
    "cursor.execute(\"select sum(qta), Mese from ecommerce group by Mese order by sum(qta) desc\")\n",
    "cursor.fetchall()"
   ]
  },
  {
   "cell_type": "markdown",
   "id": "95330914",
   "metadata": {},
   "source": [
    "Analisi del fatturatto raggruppata per mese"
   ]
  },
  {
   "cell_type": "code",
   "execution_count": 49,
   "id": "4b325842",
   "metadata": {},
   "outputs": [
    {
     "data": {
      "text/plain": [
       "[(8615184.807319803, 1),\n",
       " (7180037.850019825, 12),\n",
       " (7112833.812699807, 3),\n",
       " (6761870.707899488, 7),\n",
       " (6113327.3914996805, 9),\n",
       " (6045109.769579789, 11),\n",
       " (5983049.0194997545, 8),\n",
       " (5750376.466099925, 4),\n",
       " (5736608.450299799, 10),\n",
       " (5361216.073360001, 2),\n",
       " (5092892.195299926, 5),\n",
       " (4387367.888400028, 6)]"
      ]
     },
     "execution_count": 49,
     "metadata": {},
     "output_type": "execute_result"
    }
   ],
   "source": [
    "cursor.execute(\"select sum(qta*prezzo), Mese from ecommerce group by Mese order by sum(qta*prezzo) desc\")\n",
    "cursor.fetchall() #Dicembre e Gennaio hanno il fatturato più alto"
   ]
  },
  {
   "cell_type": "markdown",
   "id": "9b4d7190",
   "metadata": {},
   "source": [
    "Proviamo a concentrarci sul settore pesca"
   ]
  },
  {
   "cell_type": "code",
   "execution_count": 48,
   "id": "3b88e0a4",
   "metadata": {},
   "outputs": [
    {
     "data": {
      "text/plain": [
       "[(22352, 3),\n",
       " (22237, 4),\n",
       " (22219, 5),\n",
       " (21893, 7),\n",
       " (20792, 6),\n",
       " (18766, 1),\n",
       " (18271, 10),\n",
       " (18265, 11),\n",
       " (18240, 9),\n",
       " (18221, 2),\n",
       " (16692, 8),\n",
       " (14744, 12)]"
      ]
     },
     "execution_count": 48,
     "metadata": {},
     "output_type": "execute_result"
    }
   ],
   "source": [
    "cursor.execute(\"select sum(qta), Mese from ecommerce where settore='Pesca' group by Mese order by sum(qta) desc\")\n",
    "cursor.fetchall()"
   ]
  },
  {
   "cell_type": "code",
   "execution_count": 50,
   "id": "f94fec93",
   "metadata": {},
   "outputs": [],
   "source": [
    "conn.close()"
   ]
  }
 ],
 "metadata": {
  "kernelspec": {
   "display_name": "Python 3 (ipykernel)",
   "language": "python",
   "name": "python3"
  },
  "language_info": {
   "codemirror_mode": {
    "name": "ipython",
    "version": 3
   },
   "file_extension": ".py",
   "mimetype": "text/x-python",
   "name": "python",
   "nbconvert_exporter": "python",
   "pygments_lexer": "ipython3",
   "version": "3.8.10"
  }
 },
 "nbformat": 4,
 "nbformat_minor": 5
}
